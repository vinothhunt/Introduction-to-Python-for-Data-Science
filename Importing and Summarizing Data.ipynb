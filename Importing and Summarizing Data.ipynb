{
 "cells": [
  {
   "cell_type": "markdown",
   "metadata": {},
   "source": [
    "Read and explore your data\n",
    "    In this lab, you'll explore a dataset containing information on a university's recent graduates for each department. The URL this dataset can be downloaded from is stored in a variable called recent_grads_url. In this exercise, you'll read in this data using Python's pandas module.\n",
    "Instructions\n",
    "100 XP\n",
    "Import pandas as pd.\n",
    "Read in the data from recent_grads_url (which is a CSV file) and assign it to a variable called recent_grads.\n",
    "Print the shape of recent_grads."
   ]
  },
  {
   "cell_type": "code",
   "execution_count": null,
   "metadata": {},
   "outputs": [],
   "source": [
    "# Import pandas \n",
    "import pandas as pd\n",
    "\n",
    "# Use pandas to read in recent_grads_url\n",
    "recent_grads = pd.read_csv(recent_grads_url)\n",
    "\n",
    "# Print the shape\n",
    "print(recent_grads.shape)"
   ]
  },
  {
   "cell_type": "markdown",
   "metadata": {},
   "source": [
    "Exploring Your Data\n",
    "Now you'll perform some data exploration using the Python pandas module. To get a sense of the data, you'll output statistics such as mean, median, count, and percentiles.\n",
    "\n",
    "The DataFrame recent_grads is still in your workspace.\n",
    "Instructions\n",
    "100 XP\n",
    "Print the .dtypes of your data so that you know what each column contains.\n",
    "Output basic summary statistics using a single pandas function.\n",
    "With the same function from before, summary statistics for all columns that aren't of type object.\n"
   ]
  },
  {
   "cell_type": "code",
   "execution_count": null,
   "metadata": {},
   "outputs": [],
   "source": [
    "# Print .dtypes\n",
    "print(recent_grads.dtypes)\n",
    "\n",
    "# Output summary statistics\n",
    "print(recent_grads.describe())\n",
    "\n",
    "# Exclude data of type object\n",
    "print(recent_grads.describe(exclude=[\"object\"]))"
   ]
  },
  {
   "cell_type": "markdown",
   "metadata": {},
   "source": [
    "Replacing Missing Values\n",
    "There are some missing values in the dataset that are coded as a string. You'll update these to a value that Python understands as \"missing.\"\n",
    "\n",
    "The list columns contains the names of the columns you'll be working with in this exercise.\n",
    "Instructions\n",
    "100 XP\n",
    "Look at the dtypes of the columns in columns to make sure that the data is numeric.\n",
    "It looks like a string is being used to encode missing values. Use the .unique() method to figure out what the string is.\n",
    "Search for missing values in the median, p25th, and p75th columns.\n",
    "Replace the found missing values with a NaN value, using numpy's np.nan."
   ]
  },
  {
   "cell_type": "code",
   "execution_count": null,
   "metadata": {},
   "outputs": [],
   "source": [
    "# Names of the columns we're searching for missing values \n",
    "columns = ['median', 'p25th', 'p75th']\n",
    "\n",
    "# Take a look at the dtypes\n",
    "print(recent_grads[columns].dtypes)\n",
    "\n",
    "# Find how missing values are represented\n",
    "print(recent_grads[\"median\"].unique())\n",
    "\n",
    "# Replace missing values with NaN\n",
    "for column in columns:\n",
    "    recent_grads.loc[recent_grads[column] == 'UN', column] = np.nan"
   ]
  },
  {
   "cell_type": "markdown",
   "metadata": {},
   "source": [
    "Select a Column\n",
    "Python's pandas module allows you to select a specific column from a DataFrame, which is especially useful for when you only need to manipulate one piece of data. In this exercise, you'll select the sharewomen column, which shows the percentage of women for a given department.\n",
    "\n",
    "The DataFrame recent_grads is still in your workspace.\n",
    "Instructions\n",
    "100 XP\n",
    "Select the sharewomen column from recent_grads and assign this to a variable named sw_col.\n",
    "Output the first 5 rows of sw_col."
   ]
  },
  {
   "cell_type": "code",
   "execution_count": null,
   "metadata": {},
   "outputs": [],
   "source": [
    "# Select sharewomen column\n",
    "sw_col = recent_grads['sharewomen']\n",
    "\n",
    "# Output first five rows\n",
    "print(sw_col.head())"
   ]
  },
  {
   "cell_type": "markdown",
   "metadata": {},
   "source": [
    "Column Maximum Value\n",
    "Now that you've selected the sharewomen column, you'll use numpy to output its maximum value.\n",
    "\n",
    "The variable sw_col you created in the last exercise is still available in your workspace.\n",
    "Instructions\n",
    "100 XP\n",
    "Import numpy as np.\n",
    "Using a numpy built-in function, find the maximum value of the sharewomen column and assign this value to the variable max_sw.\n",
    "Print the value of max_sw"
   ]
  },
  {
   "cell_type": "code",
   "execution_count": null,
   "metadata": {},
   "outputs": [],
   "source": [
    "# Import numpy\n",
    "import numpy as np\n",
    "\n",
    "# Use max to output maximum values\n",
    "max_sw = recent_grads['sharewomen'].max()\n",
    "\n",
    "# Print column max\n",
    "print(max_sw)\n"
   ]
  },
  {
   "cell_type": "markdown",
   "metadata": {},
   "source": [
    "Selecting a Row\n",
    "While you know what the maximum percentage of women in a department is, which department is this? You'll output this information by filtering the dataset with pandas.\n",
    "\n",
    "The variables sw_col and max_sw are still in your workspace.\n",
    "Instructions\n",
    "100 XP\n",
    "Output the row of data for the department that has the largest percentage of women."
   ]
  },
  {
   "cell_type": "code",
   "execution_count": null,
   "metadata": {},
   "outputs": [],
   "source": [
    "# Output the row containing the maximum percentage of women\n",
    "#print(sw_col)\n",
    "print(recent_grads[(recent_grads['sharewomen']==max_sw)])"
   ]
  },
  {
   "cell_type": "markdown",
   "metadata": {},
   "source": [
    "Converting a DataFrame to Numpy Array\n",
    "Since numpy is such a powerful Python module, this exercise asks you to convert a pandas DataFrame to a numpy array to then utilize a statistics metric available through numpy in the next exercise.\n",
    "Instructions\n",
    "100 XP\n",
    "Select the columns unemployed and low_wage_jobs from recent_grads, then convert them to a numpy array. Save this as recent_grads_np.\n",
    "Print the type of recent_grads_np to see that it is a numpy array."
   ]
  },
  {
   "cell_type": "code",
   "execution_count": null,
   "metadata": {},
   "outputs": [],
   "source": [
    "# Convert to numpy array\n",
    "import numpy as np\n",
    "recent_grads_np=np.array(recent_grads[['unemployed', 'low_wage_jobs']])\n",
    "\n",
    "\n",
    "# Print the type of recent_grads_np\n",
    "print(type(recent_grads_np))"
   ]
  },
  {
   "cell_type": "markdown",
   "metadata": {},
   "source": [
    "Exercise\n",
    "Exercise\n",
    "Correlation Coefficient\n",
    "You have some suspicion that there's a relationship between the low_wage_jobs and unemployment_rate columns, so you decide to use numpy to calculate the correlation coefficient.\n",
    "Instructions\n",
    "100 XP\n",
    "Calculate the correlation matrix of the numpy array recent_grads_np."
   ]
  },
  {
   "cell_type": "code",
   "execution_count": null,
   "metadata": {},
   "outputs": [],
   "source": [
    "print(np.corrcoef(recent_grads_np[:,0], recent_grads_np[:,1]))"
   ]
  }
 ],
 "metadata": {
  "kernelspec": {
   "display_name": "Python 3",
   "language": "python",
   "name": "python3"
  },
  "language_info": {
   "codemirror_mode": {
    "name": "ipython",
    "version": 3
   },
   "file_extension": ".py",
   "mimetype": "text/x-python",
   "name": "python",
   "nbconvert_exporter": "python",
   "pygments_lexer": "ipython3",
   "version": "3.6.5"
  }
 },
 "nbformat": 4,
 "nbformat_minor": 2
}
