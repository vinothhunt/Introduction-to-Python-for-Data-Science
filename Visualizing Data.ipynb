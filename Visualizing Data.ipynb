{
 "cells": [
  {
   "cell_type": "markdown",
   "metadata": {},
   "source": [
    "Plotting Scatterplots\n",
    "Now that you've calculated the correlation coefficient between the low_wage_jobs and unemployment_rate columns, you want to create a visualization to effectively display this relationship. You'll use matplotlib to create a scatterplot of these two columns.\n",
    "\n",
    "The DataFrame dept_stats is available in your workspace again, and the columns low_wage_jobs and unemployment_rate have been extracted into variables of the same name.\n",
    "\n",
    "Instructions\n",
    "100 XP\n",
    "Import matplotlib.pyplot with the alias plt.\n",
    "Create a scatter plot between unemployment_rate and low_wage_jobs per major category.\n",
    "Label the x axis with 'Unemployment rate'.\n",
    "Label the y axis with 'Low pay jobs'...."
   ]
  },
  {
   "cell_type": "code",
   "execution_count": null,
   "metadata": {},
   "outputs": [],
   "source": [
    "# Import matplotlib\n",
    "import matplotlib.pyplot as plt\n",
    "\n",
    "# Create scatter plot\n",
    "plt.scatter(unemployment_rate,low_wage_jobs)\n",
    "\n",
    "# Label x axis\n",
    "plt.xlabel('Unemployment rate')\n",
    "\n",
    "# Label y axis\n",
    "plt.ylabel('Low pay jobs')\n",
    "\n",
    "# Display the graph \n",
    "plt.show()"
   ]
  },
  {
   "cell_type": "markdown",
   "metadata": {},
   "source": [
    "Modifying Plot Colors\n",
    "The default settings for matplotlib may not be what you hope to present to others, so you decide to customize your plot for low wages versus unemployment rate.\n",
    "\n",
    "Use the pandas DataFrame dept_stats again.\n",
    "\n",
    "Instructions\n",
    "100 XP\n",
    "Create the scatterplot visualization between the unemployment rate and number of low wage jobs per major category using the .plot() method.\n",
    "Customize this scatterplot so that the points are red triangles by setting the color argument to \"r\" and the marker argument ^.\n",
    "Display the plot you've created!"
   ]
  },
  {
   "cell_type": "code",
   "execution_count": null,
   "metadata": {},
   "outputs": [],
   "source": [
    "# Plot the red and triangle shaped scatter plot  \n",
    "#plt.plot()\n",
    "\n",
    "plt.scatter(unemployment_rate,low_wage_jobs,color =\"r\",marker=\"^\")\n",
    "\n",
    "# Display the visualization\n",
    "plt.show()"
   ]
  },
  {
   "cell_type": "markdown",
   "metadata": {},
   "source": [
    "Plotting Histograms\n",
    "Now that you've taken a look at that scatterplot, you want to go back to the sharewomen column that you were working with earlier. Specifically, you want to get an idea of how the values of sharewomen are distributed. This means you want to plot a histogram. For your convenience, the sharewomen column has been extracted from the recent_grads DataFrame into a variable called sharewomen.\n",
    "\n",
    "Instructions\n",
    "100 XP\n",
    "Use matplotlib to create a histogram of sharewomen.\n",
    "Show the plot you created."
   ]
  },
  {
   "cell_type": "code",
   "execution_count": null,
   "metadata": {},
   "outputs": [],
   "source": [
    "# Plot a histogram of sharewomen\n",
    "plt.hist(sharewomen)\n",
    "\n",
    "# Show the plot\n",
    "plt.show()"
   ]
  },
  {
   "cell_type": "markdown",
   "metadata": {},
   "source": [
    "Plotting with pandas\n",
    "In Python, there are several different ways to create visualizations. In fact, pandas has its own visualization capabilities, all of which are built on top of matplotlib! For example, you could have created the histogram from the previous exercise using recent_grads.sharewomen(kind=\"hist\") instead of plt.hist(recent_grads.sharewomen).\n",
    "\n",
    "Which approach you prefer comes down to personal preference - when working with DataFrames, it is advantageous to use pandas' plotting capabilities because the code tends to be less verbose.\n",
    "\n",
    "Here, you will practice creating the plots from the previous exercises using pandas instead of matplotlib. All pandas plots are created using the .plot() method on a DataFrame. Inside .plot(), you can specify which plot you want to create using the kind parameter. For example, kind= 'hist' would create a histogram, kind='scatter' would create a scatter plot, and so on.\n",
    "\n",
    "Instructions 1/2\n",
    "50 XP\n",
    "1\n",
    "Use the .plot() method with kind='scatter' on the dept_stats DataFrame to create a scatter plot with 'unemployment_rate' on the x-axis and 'low_wage_jobs' on the y-axis."
   ]
  },
  {
   "cell_type": "code",
   "execution_count": null,
   "metadata": {},
   "outputs": [],
   "source": [
    "# Import matplotlib and pandas\n",
    "import matplotlib.pyplot as plt\n",
    "import pandas as pd\n",
    "\n",
    "# Create scatter plot\n",
    "dept_stats.plot(kind='scatter', x='unemployment_rate', y='low_wage_jobs')\n",
    "plt.show()\n",
    "\n",
    "# Import matplotlib and pandas\n",
    "import matplotlib.pyplot as plt\n",
    "import pandas as pd\n",
    "\n",
    "# Create histogram\n",
    "recent_grads.sharewomen.plot(kind='hist')\n",
    "plt.show()"
   ]
  },
  {
   "cell_type": "markdown",
   "metadata": {},
   "source": [
    "Plotting One Bar Graphs\n",
    "Next, you want to gauge how many students are graduating from each major category without a job that requires their degree, so you decide to create a bar chart between number of non college jobs and each major category.\n",
    "\n",
    "Instructions\n",
    "100 XP\n",
    "First, create a DataFrame to plot. Use recent_grads to make a DataFrame that reports each major category and the number of college graduates with a job that doesn't require a degree. Assign this to a variable named df.\n",
    "Plot this data as a bar chart using the .plot() method. Here, kind should be \"bar\".\n",
    "Display the plot you've created!"
   ]
  },
  {
   "cell_type": "code",
   "execution_count": null,
   "metadata": {},
   "outputs": [],
   "source": [
    "# DataFrame of non-college job sums\n",
    "df = recent_grads.groupby(['major_category']).non_college_jobs.sum()\n",
    "\n",
    "# Plot bar chart\n",
    "df.plot(kind='bar')\n",
    "\n",
    "# Show graph\n",
    "plt.show()"
   ]
  },
  {
   "cell_type": "markdown",
   "metadata": {},
   "source": [
    "Plotting Two Bar Graphs\n",
    "The previous visualization gives you a good picture of how many students are working at jobs that don't require a college degree, but it doesn't give you a sense of how each category is doing relative to one another. So you decide to add the college_jobs column as an extra bar of information so that you can evaluate the difference between the two.\n",
    "\n",
    "Instructions\n",
    "100 XP\n",
    "Use pandas to create a DataFrame that reports the number of graduates working at jobs that do require college degrees ('college_jobs'), and do not require college degrees ('non_college_jobs'). Assign this to a variable named df1.\n",
    "Create a plot that reports this data with matplotlib.\n",
    "Display the plot you've created!"
   ]
  },
  {
   "cell_type": "code",
   "execution_count": null,
   "metadata": {},
   "outputs": [],
   "source": [
    "# DataFrame of college and non-college job sums\n",
    "df1 = recent_grads.groupby(['major_category'])['college_jobs','non_college_jobs'].sum()\n",
    "\n",
    "# Plot bar chart\n",
    "df1.plot(kind=\"bar\")\n",
    "\n",
    "# Show graph\n",
    "plt.show()"
   ]
  },
  {
   "cell_type": "markdown",
   "metadata": {},
   "source": [
    "Dropping Missing Values\n",
    "Now that you've replaced the UN values with NaN values, you realize it's better that you just delete these rows completely. In this exercise, you'll do just that. To confirm you filtered out the rows, you’ll then check the size of the DataFrame to confirm the size is smaller.\n",
    "\n",
    "Instructions\n",
    "100 XP\n",
    "With a single line of code, drop all the rows that have a missing value.\n",
    "Print the size of the manipulated DataFrame."
   ]
  },
  {
   "cell_type": "code",
   "execution_count": null,
   "metadata": {},
   "outputs": [],
   "source": [
    "# Print the size of the DataFrame\n",
    "print(recent_grads.size)\n",
    "\n",
    "# Drop all rows with a missing value\n",
    "recent_grads=recent_grads.dropna(axis=0)\n",
    "\n",
    "# Print the size of the DataFrame\n",
    "print(recent_grads.size)"
   ]
  },
  {
   "cell_type": "markdown",
   "metadata": {},
   "source": [
    "Plotting Quantiles of Salary, Part 1\n",
    "Now you're interested in plotting a few different quantiles of the average salary across major categories so that you can compare the different distributions of salary. In this exercise you'll prepare your data for matplotlib.\n",
    "\n",
    "Instructions\n",
    "100 XP\n",
    "The columns median, p25th, and p75th are currently encoded as strings. Convert these columns to numerical values. Then, divide the value of each column by 1000 to make the scale of the final plot easier to read.\n",
    "Find the of each of the three columns for each major category. Save this as sal_quantiles"
   ]
  },
  {
   "cell_type": "code",
   "execution_count": null,
   "metadata": {},
   "outputs": [],
   "source": [
    "# Convert to numeric and divide by 1000\n",
    "recent_grads['median'] = pd.to_numeric(recent_grads['median']) / 1000\n",
    "recent_grads['p25th'] = pd.to_numeric(recent_grads['p25th']) / 1000\n",
    "recent_grads['p75th'] = pd.to_numeric(recent_grads['p75th']) / 1000\n",
    "\n",
    "# Select averages by major category\n",
    "columns = ['median', 'p25th', 'p75th']\n",
    "sal_quantiles = recent_grads.groupby(['major_category'])[columns].mean()"
   ]
  },
  {
   "cell_type": "markdown",
   "metadata": {},
   "source": [
    "Plotting Quantiles of Salary, Part 2\n",
    "Now that your data is ready for plotting, it's time to make the final plot!\n",
    "\n",
    "Instructions\n",
    "100 XP\n",
    "Plot the DataFrame.\n",
    "Clean up the x-axis labels with the function plt.xticks(). Set the first argument equal to np.arange(len(sal_quantiles.index)), the second argument equal to sal_quantiles.index, and the keyword argument rotation = 'vertical'.\n",
    "Show the plot.\n",
    "Now call the .plot() method with the argument subplots=True to plot the columns on separate axes. Show this plot as well.."
   ]
  },
  {
   "cell_type": "code",
   "execution_count": null,
   "metadata": {},
   "outputs": [],
   "source": [
    "# Plot the data\n",
    "sal_quantiles.plot()\n",
    "\n",
    "# Set xticks\n",
    "plt.xticks(\n",
    "    np.arange(len(sal_quantiles.index)),\n",
    "    sal_quantiles.index, \n",
    "    rotation='vertical')\n",
    "\n",
    "# Show the plot\n",
    "plt.show()\n",
    "\n",
    "# Plot with subplots\n",
    "sal_quantiles.plot(subplots=True)\n",
    "plt.show()"
   ]
  },
  {
   "cell_type": "code",
   "execution_count": null,
   "metadata": {},
   "outputs": [],
   "source": []
  }
 ],
 "metadata": {
  "kernelspec": {
   "display_name": "Python 3",
   "language": "python",
   "name": "python3"
  },
  "language_info": {
   "codemirror_mode": {
    "name": "ipython",
    "version": 3
   },
   "file_extension": ".py",
   "mimetype": "text/x-python",
   "name": "python",
   "nbconvert_exporter": "python",
   "pygments_lexer": "ipython3",
   "version": "3.6.5"
  }
 },
 "nbformat": 4,
 "nbformat_minor": 2
}
